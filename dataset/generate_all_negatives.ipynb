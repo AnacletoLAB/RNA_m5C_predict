{
 "cells": [
  {
   "cell_type": "code",
   "execution_count": null,
   "id": "b98adb49",
   "metadata": {},
   "outputs": [],
   "source": [
    "#In this file I will generate all negatives. I will start by generating all possible negative sequences.\n",
    "#Then, I will take the sequences in the training set and in the test test and create a set of negatives to remove from the set of all negatives.\n",
    "#This step just lightweights negatives, the full redundancy filtering is performed during negative selection.\n",
    "#I have not added all remaining negatives in pickles since it is a big file and I do not want to store it in the repository, so this script needs to be run\n",
    "#before hard negative mining\n",
    "import pickle\n",
    "import numpy as np\n",
    "from pathlib import Path\n",
    "import copy\n",
    "import random"
   ]
  },
  {
   "cell_type": "code",
   "execution_count": null,
   "id": "442a9a3f",
   "metadata": {},
   "outputs": [],
   "source": [
    "path_train = Path(\"./training_set.pickle\")\n",
    "path_test = Path(\"./test_set.pickle\")\n",
    "\n",
    "with open(path_train, \"rb\") as f:\n",
    "    training_set = pickle.load(f)\n",
    "with open(path_test, \"rb\") as f:\n",
    "    test_set = pickle.load(f)\n",
    "\n",
    "sequences_negatives = set(training_set[\"negative\"] + test_set[\"negative\"])"
   ]
  },
  {
   "cell_type": "code",
   "execution_count": null,
   "id": "3d2e78c2",
   "metadata": {},
   "outputs": [],
   "source": [
    "pad_token = \"P\"\n",
    "seq_len = 151 #even number\n",
    "\n",
    "path = Path(\"./gene_results_imvp.pickle\")\n",
    "with open(path, \"rb\") as f:\n",
    "    sequences_imvp = pickle.load(f)\n",
    "\n",
    "\n",
    "for key in sequences_imvp.keys():\n",
    "    sequence = sequences_imvp[key][\"sequence\"]\n",
    "    mods = sequences_imvp[key][\"mod_positions\"]\n",
    "    #pad both sides of the sequence\n",
    "    len_pad = seq_len//2 + 1 \n",
    "    sequence = pad_token*len_pad + sequence\n",
    "    mods = [x+len_pad for x in mods]\n",
    "    sequence = sequence + pad_token*len_pad\n",
    "\n",
    "    sequences_imvp[key][\"sequence\"] = sequence\n",
    "    sequences_imvp[key][\"mod_positions\"] = mods\n",
    "\n",
    "all_sequences = []\n",
    "for key in sequences_imvp.keys():\n",
    "    sequence = sequences_imvp[key][\"sequence\"]\n",
    "    mods = sequences_imvp[key][\"mod_positions\"]\n",
    "    min_distances = sequences_imvp[key][\"min_distances\"]\n",
    "    clusters = sequences_imvp[key][\"clusters\"]\n",
    "    for i, mod in enumerate(mods):\n",
    "        if seq_len%2 == 0:\n",
    "            seq_now = sequence[mod-seq_len//2:mod+seq_len//2]\n",
    "        else:\n",
    "            seq_now = sequence[mod-seq_len//2:mod+seq_len//2+1]\n",
    "                        \n",
    "        dist_now = min_distances[i]\n",
    "        if clusters[i] == \"Type I\":\n",
    "            if dist_now > 15:\n",
    "                all_sequences.append(seq_now)\n",
    "        else:\n",
    "            all_sequences.append(seq_now)\n"
   ]
  },
  {
   "cell_type": "code",
   "execution_count": 4,
   "id": "8ccb586f",
   "metadata": {},
   "outputs": [],
   "source": [
    "rng = random.Random(42)\n",
    "\n",
    "\n",
    "keys_imvp = list(sequences_imvp.keys())\n",
    "for_neg_impv = {}\n",
    "\n",
    "for key in keys_imvp:\n",
    "    sequence = sequences_imvp[key][\"sequence\"]\n",
    "    mods = sequences_imvp[key][\"mod_positions\"]\n",
    "    putative_Cs_positions = [i for i, x in enumerate(sequence) if x == \"C\" and i not in mods]\n",
    "    for_neg_impv[key] = {\"sequence\": sequence, \"mod_positions\": mods, \"putative_Cs_positions\": copy.deepcopy(putative_Cs_positions)}\n",
    "\n",
    "all_negatives = []\n",
    "\n",
    "for key in for_neg_impv.keys():\n",
    "    sequence = for_neg_impv[key][\"sequence\"]\n",
    "    putative_Cs_positions = for_neg_impv[key][\"putative_Cs_positions\"]\n",
    "    for i in putative_Cs_positions:\n",
    "        if seq_len%2 == 0:\n",
    "            all_negatives.append(sequence[i-seq_len//2:i+seq_len//2])\n",
    "        else:\n",
    "            all_negatives.append(sequence[i-seq_len//2:i+seq_len//2+1])\n",
    "\n",
    "all_negatives = set(all_negatives)"
   ]
  },
  {
   "cell_type": "code",
   "execution_count": 10,
   "id": "ca0e384b",
   "metadata": {},
   "outputs": [],
   "source": [
    "#remove the negatives that are already in the training and test sets\n",
    "all_negatives = all_negatives - sequences_negatives - set(all_sequences)\n",
    "all_negatives = list(all_negatives)"
   ]
  },
  {
   "cell_type": "code",
   "execution_count": null,
   "id": "33e60a02",
   "metadata": {},
   "outputs": [],
   "source": [
    "path_all_remaining_negatives = Path(\"./all_remaining_negatives.pickle\")\n",
    "with open(path_all_remaining_negatives, \"wb\") as f:\n",
    "    pickle.dump(all_negatives, f)"
   ]
  }
 ],
 "metadata": {
  "kernelspec": {
   "display_name": "rna",
   "language": "python",
   "name": "python3"
  },
  "language_info": {
   "codemirror_mode": {
    "name": "ipython",
    "version": 3
   },
   "file_extension": ".py",
   "mimetype": "text/x-python",
   "name": "python",
   "nbconvert_exporter": "python",
   "pygments_lexer": "ipython3",
   "version": "3.12.9"
  }
 },
 "nbformat": 4,
 "nbformat_minor": 5
}
